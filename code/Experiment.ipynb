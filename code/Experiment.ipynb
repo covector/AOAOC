{
 "cells": [
  {
   "cell_type": "markdown",
   "metadata": {},
   "source": [
    "# Import Modules"
   ]
  },
  {
   "cell_type": "code",
   "execution_count": 1,
   "metadata": {},
   "outputs": [],
   "source": [
    "import numpy as np\n",
    "from fourrooms import Fourrooms\n",
    "from IPython.display import clear_output\n",
    "from aoaoc_classes import *\n",
    "import matplotlib.pyplot as plt\n",
    "from visualize import Visualization"
   ]
  },
  {
   "cell_type": "markdown",
   "metadata": {},
   "source": [
    "# HyperParameters"
   ]
  },
  {
   "cell_type": "code",
   "execution_count": 9,
   "metadata": {},
   "outputs": [],
   "source": [
    "# Replace the command line argparse\n",
    "class Arguments:\n",
    "    def __init__(self):\n",
    "        # Numbers\n",
    "        self.nepisodes=4000\n",
    "        self.nruns=1\n",
    "        self.nsteps=2000\n",
    "        self.noptions=2\n",
    "        \n",
    "        # Learning Rates\n",
    "        self.lr_term=0.1\n",
    "        self.lr_intra=0.25\n",
    "        self.lr_critic=0.5\n",
    "        self.lr_critic_pseudo=0.5\n",
    "        self.lr_criticA=0.5\n",
    "        self.lr_criticA_pseudo=0.5\n",
    "        self.lr_attend=0.02\n",
    "        \n",
    "        # Environment Parameters\n",
    "        self.discount=0.99\n",
    "        self.deterministic = False\n",
    "        self.punishEachStep = True\n",
    "        self.modified = True\n",
    "        \n",
    "        # Attention Parameters\n",
    "        self.h_learn = False\n",
    "        self.normalize = True\n",
    "        \n",
    "        # Distraction Parameters\n",
    "        self.xi=0.\n",
    "        self.n=0.5\n",
    "        \n",
    "        # Policy Parameters\n",
    "        self.epsilon=1e-1\n",
    "        self.temp=1.\n",
    "        \n",
    "        # Objective Parameters\n",
    "        self.wo1 = 1.   #q\n",
    "        self.wo2 = 1.    #cosim\n",
    "        self.wo3 = 0.    #entropy\n",
    "        self.wo4 = 0.    #size\n",
    "        self.wo4p = 2\n",
    "        \n",
    "        # Randomness Parameters\n",
    "        self.seed=2222\n",
    "        self.seed_startstate=1111\n",
    "        \n",
    "        # Display Parameters\n",
    "        self.showMap = True\n",
    "        self.showAttention = False\n",
    "        \n",
    "        # Other Parameters\n",
    "        self.baseline=True\n",
    "        self.dc = 0.2\n",
    "        \n",
    "        \n",
    "args = Arguments()"
   ]
  },
  {
   "cell_type": "markdown",
   "metadata": {},
   "source": [
    "# Run"
   ]
  },
  {
   "cell_type": "markdown",
   "metadata": {},
   "source": [
    "## Set up"
   ]
  },
  {
   "cell_type": "code",
   "execution_count": 3,
   "metadata": {},
   "outputs": [],
   "source": [
    "rng = np.random.RandomState(args.seed)\n",
    "env = Fourrooms(args.seed_startstate, args.punishEachStep, args.deterministic, args.modified)\n",
    "R = 50.\n",
    "\n",
    "possible_next_goals = [68, 69, 70, 71, 72, 78, 79, 80, 81, 82, 88, 89, 90, 91, 92, 93, 99, 100, 101, 102, 103]\n",
    "\n",
    "features = Tabular(env.observation_space)\n",
    "nfeatures, nactions = len(features), env.action_space\n",
    "\n",
    "viz = Visualization(env, args, nactions)"
   ]
  },
  {
   "cell_type": "markdown",
   "metadata": {},
   "source": [
    "## Main loop"
   ]
  },
  {
   "cell_type": "code",
   "execution_count": 10,
   "metadata": {},
   "outputs": [
    {
     "data": {
      "image/png": "[encoded data removed]",
      "text/plain": [
       "<Figure size 360x360 with 1 Axes>"
      ]
     },
     "metadata": {
      "needs_background": "light"
     },
     "output_type": "display_data"
    },
    {
     "name": "stdout",
     "output_type": "stream",
     "text": [
      "Run 0 episode 3999 steps 3 cumreward 44.0 avg. duration 1.6666666666666667 switches 3\n"
     ]
    }
   ],
   "source": [
    "for run in range(args.nruns):\n",
    "    # Set up classes\n",
    "    policy_over_options = POO(rng, nfeatures, args)\n",
    "    CoSimObj.reset()\n",
    "    options = [Option(rng, nfeatures, nactions, args, R, policy_over_options, i) for i in range(args.noptions)]\n",
    "\n",
    "    # Loop through games\n",
    "    for episode in range(args.nepisodes):\n",
    "        # Initial state\n",
    "        return_per_episode = 0.0\n",
    "        observation = env.reset()\n",
    "        phi = features(observation)    \n",
    "        option = policy_over_options.sample(phi)\n",
    "        action = options[option].sample(phi)\n",
    "        traject = [[phi,option],[phi,option],action]\n",
    "        viz.resetMap(phi)\n",
    "\n",
    "        # Reset record\n",
    "        cumreward = 0.\n",
    "        duration = 1\n",
    "        option_switches = 0\n",
    "        avgduration = 0.\n",
    "        \n",
    "        # Loop through frames in 1 game\n",
    "        for step in range(args.nsteps):\n",
    "            # Collect feedback from environment\n",
    "            observation, reward, done, _ = env.step(action)\n",
    "            phi = features(observation)\n",
    "            return_per_episode += pow(args.discount,step)*reward\n",
    "            \n",
    "            # Render\n",
    "            if args.showMap and episode % 100 == 99:\n",
    "                clear_output(wait=True)\n",
    "                viz.showMap(phi, option)\n",
    "\n",
    "            # Store option index\n",
    "            last_option = option\n",
    "            \n",
    "            # Check termination\n",
    "            termination = options[option].terminate(phi, value=True)\n",
    "            if options[option].terminate(phi):\n",
    "                option = policy_over_options.sample(phi)\n",
    "                option_switches += 1\n",
    "                avgduration += (1./option_switches)*(duration - avgduration)\n",
    "                duration = 1\n",
    "        \n",
    "            # Record into trajectory\n",
    "            traject[0] = traject[1]\n",
    "            traject[1] = [phi, option]\n",
    "            traject[2] = action\n",
    "            \n",
    "            # Sample next action\n",
    "            action = options[option].sample(phi)\n",
    "\n",
    "            # Policy Evaluation + Policy Improvement\n",
    "            baseline = policy_over_options.value(traject[0][0], traject[0][1], pseudo=True)\n",
    "            advantage = policy_over_options.advantage(phi, last_option)\n",
    "            options[last_option].update(traject, reward, done, phi, last_option, termination, baseline, advantage)\n",
    "            policy_over_options.update(traject, reward, options[last_option].distract(reward,traject[2]), done, termination)\n",
    "            \n",
    "            # End of frame\n",
    "            cumreward += options[last_option].distract(reward, traject[2])\n",
    "            duration += 1\n",
    "            if done:\n",
    "                break\n",
    "                \n",
    "        # Attention graph\n",
    "        if args.showAttention:\n",
    "            clear_output(wait=True)\n",
    "            viz.showAttention(options)\n",
    "#             print(options[option].policy.attention.pmf())\n",
    "\n",
    "        print('Run {} episode {} steps {} cumreward {} avg. duration {} switches {}'.format(run, episode, step, cumreward, avgduration, option_switches))"
   ]
  },
  {
   "cell_type": "markdown",
   "metadata": {},
   "source": [
    "# Visualization"
   ]
  },
  {
   "cell_type": "markdown",
   "metadata": {},
   "source": [
    "## Simulate an episode"
   ]
  },
  {
   "cell_type": "code",
   "execution_count": 5,
   "metadata": {},
   "outputs": [
    {
     "name": "stdout",
     "output_type": "stream",
     "text": [
      "[[  0   0   0   0   0   0   0   0   0   0   0   0   0]\n",
      " [  0   0   1   2   3   4   5   6   7   8   9  10   0]\n",
      " [  0  11  12  13  14  15   0  16  17  18  19  20   0]\n",
      " [  0  21  22  23  24  25   0  26  27  28  29  30   0]\n",
      " [  0  31  32  33  34  35   0  36  37  38  39  40   0]\n",
      " [  0  41  42  43  44  45   0  46  47  48  49  50   0]\n",
      " [  0  51   0   0   0   0   0  52  53  54  55  56   0]\n",
      " [  0  57  58  59  60  61   0   0   0   0   0  62   0]\n",
      " [  0  63  64  65  66  67   0  68  69  70  71  72   0]\n",
      " [  0  73  74  75  76  77   0  78  79  80  81  82   0]\n",
      " [  0  83  84  85  86  87   0  88  89  90  91  92   0]\n",
      " [  0  93  94  95  96  97  98  99 100 101 102 103   0]\n",
      " [  0   0   0   0   0   0   0   0   0   0   0   0   0]]\n"
     ]
    }
   ],
   "source": [
    "states = np.zeros((13,13), dtype=\"int\")\n",
    "occupancy = env.occupancy.astype('float64')\n",
    "s=0\n",
    "for i in range(13):\n",
    "    for j in range(13):\n",
    "        if occupancy[i,j] == 0:\n",
    "            states[i,j] = s\n",
    "            s+=1\n",
    "print(states)"
   ]
  },
  {
   "cell_type": "code",
   "execution_count": 18,
   "metadata": {},
   "outputs": [
    {
     "data": {
      "image/png": "[encoded data removed]",
      "text/plain": [
       "<Figure size 360x360 with 1 Axes>"
      ]
     },
     "metadata": {
      "needs_background": "light"
     },
     "output_type": "display_data"
    }
   ],
   "source": [
    "startState = 57\n",
    "# Simulation\n",
    "observation = env.reset(startState)\n",
    "viz.resetMap(phi)\n",
    "\n",
    "option = policy_over_options.sample(phi)\n",
    "action = options[option].sample(phi)\n",
    "\n",
    "for step in range(args.nsteps):\n",
    "    observation, reward, done, _ = env.step(action)\n",
    "    phi = features(observation)\n",
    "\n",
    "    #render\n",
    "    clear_output(wait=True)\n",
    "    viz.showMap(phi, option)\n",
    "\n",
    "    if options[option].terminate(phi):\n",
    "        option = policy_over_options.sample(phi)\n",
    "\n",
    "    action = options[option].sample(phi)\n",
    "\n",
    "    if done:\n",
    "        break"
   ]
  },
  {
   "cell_type": "markdown",
   "metadata": {},
   "source": [
    "## Display action and option preference in each state"
   ]
  },
  {
   "cell_type": "code",
   "execution_count": 11,
   "metadata": {},
   "outputs": [
    {
     "data": {
      "image/png": "[encoded data removed]",
      "text/plain": [
       "<Figure size 360x360 with 1 Axes>"
      ]
     },
     "metadata": {
      "needs_background": "light"
     },
     "output_type": "display_data"
    }
   ],
   "source": [
    "# Display option preference\n",
    "viz.showPref(policy_over_options.weightsP)"
   ]
  },
  {
   "cell_type": "code",
   "execution_count": 16,
   "metadata": {},
   "outputs": [
    {
     "data": {
      "image/png": "[encoded data removed]",
      "text/plain": [
       "<Figure size 360x360 with 1 Axes>"
      ]
     },
     "metadata": {
      "needs_background": "light"
     },
     "output_type": "display_data"
    }
   ],
   "source": [
    "opt = 0\n",
    "# Display action preference for opt\n",
    "viz.showPref(options[opt].weightsP)"
   ]
  },
  {
   "cell_type": "markdown",
   "metadata": {},
   "source": [
    "## Display Attention"
   ]
  },
  {
   "cell_type": "code",
   "execution_count": 17,
   "metadata": {},
   "outputs": [
    {
     "data": {
      "image/png": "[encoded data removed]",
      "text/plain": [
       "<Figure size 432x288 with 1 Axes>"
      ]
     },
     "metadata": {
      "needs_background": "light"
     },
     "output_type": "display_data"
    }
   ],
   "source": [
    "viz.showAttention(options)"
   ]
  },
  {
   "cell_type": "code",
   "execution_count": null,
   "metadata": {},
   "outputs": [],
   "source": []
  }
 ],
 "metadata": {
  "kernelspec": {
   "display_name": "Python 3",
   "language": "python",
   "name": "python3"
  },
  "language_info": {
   "codemirror_mode": {
    "name": "ipython",
    "version": 3
   },
   "file_extension": ".py",
   "mimetype": "text/x-python",
   "name": "python",
   "nbconvert_exporter": "python",
   "pygments_lexer": "ipython3",
   "version": "3.7.4"
  }
 },
 "nbformat": 4,
 "nbformat_minor": 4
}
